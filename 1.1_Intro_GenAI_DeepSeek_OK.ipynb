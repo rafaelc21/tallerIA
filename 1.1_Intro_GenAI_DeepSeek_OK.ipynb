{
 "cells": [
  {
   "cell_type": "markdown",
   "id": "d937bf87-7a31-4d4f-97cb-e6ce19e075c3",
   "metadata": {},
   "source": [
    "# Usando la API de DeepSeek\n",
    "Listas de Costes --> https://api-docs.deepseek.com/quick_start/pricing  \n",
    "Nuevo Modelo --> https://api-docs.deepseek.com/news/news250528"
   ]
  },
  {
   "cell_type": "markdown",
   "id": "207ad77f-42a6-496f-98b5-262d67c7d6a1",
   "metadata": {},
   "source": [
    " 🔍 **¿Qué es DeepSeek?**  \n",
    "DeepSeek es una plataforma de IA avanzada diseñada para ofrecer soluciones inteligentes y personalizadas en tiempo real.  \n",
    "Con modelos de lenguaje de última generación, DeepSeek te permite:  \n",
    "✅ Generar texto: Desde respuestas precisas hasta contenido creativo, DeepSeek es tu aliado para la redacción, traducción y más.  \n",
    "✅ Automatizar tareas: Simplifica procesos como la redacción de correos, la generación de código o la creación de contenido.  \n",
    "✅ Integrar IA en tus aplicaciones: Con una API fácil de usar.  "
   ]
  },
  {
   "cell_type": "code",
   "execution_count": 4,
   "id": "be6d92e0-b9a2-482d-8b1e-5712c245db49",
   "metadata": {},
   "outputs": [],
   "source": [
    "# Importa el cliente estandar de OpenAI, se conecta DIRECTAMENTE a los servicios de OpenAI como : GPT-3, GPT-4, DALL-E, etc.\n",
    "from openai import OpenAI\n",
    "\n",
    "# Librerias que permite interactuar con el Sistema Operativo. Administrar archivos, variables de entorno y más.\n",
    "import os"
   ]
  },
  {
   "cell_type": "code",
   "execution_count": 5,
   "id": "c61d0224-4588-4cf5-b70d-de5c4c493024",
   "metadata": {},
   "outputs": [],
   "source": [
    "os.environ[\"DEEPSEEK_API_KEY\"] = \"sk-ebed09dc4b2242bebd1e21cd3be686d3\"  # ¡Mantén tus claves seguras!"
   ]
  },
  {
   "cell_type": "code",
   "execution_count": 6,
   "id": "19cc1047-7a37-40af-aebe-56f90296c5cc",
   "metadata": {},
   "outputs": [
    {
     "name": "stdout",
     "output_type": "stream",
     "text": [
      "Respuesta: Argentina ganó el último mundial.\n",
      "Tokens usados: 31\n"
     ]
    }
   ],
   "source": [
    "client = OpenAI(\n",
    "    api_key=os.environ[\"DEEPSEEK_API_KEY\"],  # Clave API de OpenAI.\n",
    "    base_url=\"https://api.deepseek.com\"  # URL base de la API. Por defecto https://api.openai.com/v1, puedes cambiarla si estás utilizando otra solucion.\n",
    "    )\n",
    "\n",
    "# El metodo client.chat.completions.create es una funcion proporcionada por la biblioteca OpenAI\n",
    "# Facilita la interaccion con modelos de lenguaje basados en chat, como GPT-4 u otros. \n",
    "# Permite enviar una solicitud a la API de OpenAI (o a una API compatible, como DeepSeek) para generar respuestas de chat en formato de conversacion.\n",
    "response = client.chat.completions.create(\n",
    "    model=\"deepseek-chat\",  # Nombre del modelo a utilizar como: \"gpt-4-turbo\", \"deepseek-chat\"\n",
    "    # Lista de mensajes del chat en formato [{role: \"user\", content: \"Hola\"}]\n",
    "    messages=[  \n",
    "        {\"role\": \"system\", \"content\": \"Eres un asistente\"},\n",
    "        {\"role\": \"user\", \"content\": \"Quién ganó el último mundial?, en un maximo de 10 palabras\"}\n",
    "    ],    \n",
    "    stream=False,  # (True) la respuesta del modelo se envía en fragmentos (streaming) y (False) la respuesta del modelo como un bloque completo.\n",
    "    max_tokens= 50,  # Límite máximo de tokens en la respuesta generada.\n",
    "    temperature = 0.7,  # Controla la aleatoriedad. Rango (0 a 2). Respuestas más deterministas (0.0 - 0.3) , respuestas muy aleatorias (1.3 - 2.0).\n",
    "    timeout=30 # Cancela la conexión si transcurre 30 segundos sin recibir la respuesta completa.\n",
    "\n",
    ")\n",
    "\n",
    "resultado = response.choices[0].message\n",
    "print(\"Respuesta:\", resultado.content)\n",
    "print(\"Tokens usados:\", response.usage.total_tokens)"
   ]
  },
  {
   "cell_type": "code",
   "execution_count": null,
   "id": "cca7433f",
   "metadata": {},
   "outputs": [],
   "source": []
  }
 ],
 "metadata": {
  "kernelspec": {
   "display_name": "Python 3",
   "language": "python",
   "name": "python3"
  },
  "language_info": {
   "codemirror_mode": {
    "name": "ipython",
    "version": 3
   },
   "file_extension": ".py",
   "mimetype": "text/x-python",
   "name": "python",
   "nbconvert_exporter": "python",
   "pygments_lexer": "ipython3",
   "version": "3.12.1"
  }
 },
 "nbformat": 4,
 "nbformat_minor": 5
}
