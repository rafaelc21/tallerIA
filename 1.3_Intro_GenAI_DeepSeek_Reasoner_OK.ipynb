{
 "cells": [
  {
   "cell_type": "markdown",
   "id": "d937bf87-7a31-4d4f-97cb-e6ce19e075c3",
   "metadata": {},
   "source": [
    "# Usando la API de DeepSeek - Reasoner\n",
    "https://api-docs.deepseek.com/guides/reasoning_model\n"
   ]
  },
  {
   "cell_type": "markdown",
   "id": "207ad77f-42a6-496f-98b5-262d67c7d6a1",
   "metadata": {},
   "source": [
    " 🔍 **¿Qué es DeepSeek Reasoner?**  \n",
    "DeepSeek es una plataforma de IA avanzada diseñada para ofrecer soluciones inteligentes y personalizadas en tiempo real.  \n",
    "Con modelos de lenguaje de última generación, DeepSeek te permite:  \n",
    "\n",
    "DeepSeek Reasoning Model es un modelo avanzado de razonamiento y generación de lenguaje desarrollado por DeepSeek, \n",
    "diseñado para realizar tareas complejas que requieren comprensión profunda, lógica y capacidad de inferencia.  \n",
    "A diferencia de los modelos de lenguaje tradicionales, está optimizado para:\n",
    "\n",
    "✅ Razonamiento paso a paso  \n",
    "✅ Alta precisión en tareas complejas  \n",
    "✅ Contexto extendido (hasta 128K tokens)  \n",
    "✅ Optimización para respuestas estructuradas    "
   ]
  },
  {
   "cell_type": "code",
   "execution_count": 1,
   "id": "be6d92e0-b9a2-482d-8b1e-5712c245db49",
   "metadata": {},
   "outputs": [],
   "source": [
    "# Importa el cliente estandar de OpenAI, se conecta DIRECTAMENTE a los servicios de OpenAI como : GPT-3, GPT-4, DALL-E, etc.\n",
    "from openai import OpenAI\n",
    "# Librerias que permite interactuar con el Sistema Operativo. Administrar archivos, variables de entorno y más.\n",
    "import os"
   ]
  },
  {
   "cell_type": "code",
   "execution_count": 2,
   "id": "c61d0224-4588-4cf5-b70d-de5c4c493024",
   "metadata": {},
   "outputs": [],
   "source": [
    "os.environ[\"DEEPSEEK_API_KEY\"] = \"sk-ebed09dc4b2242bebd1e21cd3be686d3\"  # ¡Mantén tus claves seguras!"
   ]
  },
  {
   "cell_type": "markdown",
   "id": "25451d13",
   "metadata": {},
   "source": [
    "### Deepseek-Chat\n",
    "Diseñado para respuestas rápidas y directas, ideal para interacciones conversacionales estándar."
   ]
  },
  {
   "cell_type": "code",
   "execution_count": 3,
   "id": "19cc1047-7a37-40af-aebe-56f90296c5cc",
   "metadata": {},
   "outputs": [
    {
     "name": "stdout",
     "output_type": "stream",
     "text": [
      "Respuesta: Para determinar cuál es mayor entre **9.11** y **9.8**, seguimos estos pasos:\n",
      "\n",
      "1. **Igualar el número de decimales**:\n",
      "   - Podemos reescribir **9.8** como **9.80** para facilitar la comparación.\n",
      "\n",
      "2. **Comparar las partes enteras**:\n",
      "   - Ambas cifras tienen **9** como parte entera, por lo que pasamos a comparar los decimales.\n",
      "\n",
      "3. **Comparar las partes decimales**:\n",
      "   - **9.11** tiene **11** centésimas.\n",
      "   - **9.80** tiene **80** centésimas.\n",
      "   \n",
      "   Dado que **80 > 11**, entonces **9.80 > 9.11**.\n",
      "\n",
      "**Respuesta final**:\n",
      "\\[\n",
      "\\boxed{9.8 \\text{ es mayor que } 9.11}\n",
      "\\]\n",
      "--------------------------------------------\n",
      "Tokens usados: 216\n"
     ]
    }
   ],
   "source": [
    "client = OpenAI(\n",
    "    api_key=os.environ[\"DEEPSEEK_API_KEY\"],  # Clave API de OpenAI.\n",
    "    base_url=\"https://api.deepseek.com\"  # URL base de la API. Por defecto https://api.openai.com/v1, puedes cambiarla si estás utilizando otra solucion.\n",
    "    )\n",
    "\n",
    "# El metodo client.chat.completions.create es una funcion proporcionada por la biblioteca OpenAI\n",
    "# Facilita la interaccion con modelos de lenguaje basados en chat, como GPT-4 u otros. \n",
    "# Permite enviar una solicitud a la API de OpenAI (o a una API compatible, como DeepSeek) para generar respuestas de chat en formato de conversacion.\n",
    "response = client.chat.completions.create(\n",
    "    model=\"deepseek-chat\",  # Nombre del modelo a utilizar como: \"gpt-4-turbo\", \"deepseek-chat\"\n",
    "    # Lista de mensajes del chat en formato [{role: \"user\", content: \"Hola\"}]\n",
    "    messages=[  \n",
    "        {\"role\": \"system\", \"content\": \"Eres un profesor de matematicas\"},\n",
    "        {\"role\": \"user\", \"content\": \"9.11 o 9.8, cual es mayor?\"}\n",
    "    ],    \n",
    "    stream=False,  # (True) la respuesta del modelo se envía en fragmentos (streaming) y (False) la respuesta del modelo como un bloque completo.\n",
    "    #max_tokens= 50,  # Límite máximo de tokens en la respuesta generada.\n",
    "    temperature = 0.7,  # Controla la aleatoriedad. Rango (0 a 2). Respuestas más deterministas (0.0 - 0.3) , respuestas muy aleatorias (1.3 - 2.0).\n",
    "    timeout=30 # Cancela la conexión si transcurre 30 segundos sin recibir la respuesta completa.\n",
    ")\n",
    "\n",
    "resultado = response.choices[0].message\n",
    "print(\"Respuesta:\", resultado.content)\n",
    "print(\"--------------------------------------------\")\n",
    "print(\"Tokens usados:\", response.usage.total_tokens)"
   ]
  },
  {
   "cell_type": "markdown",
   "id": "985ac437",
   "metadata": {},
   "source": [
    "### Deepseek-Reasoner\n",
    "Optimizado para tareas que requieren un análisis más profundo y detallado, lo que resulta en tiempos de respuesta más largos."
   ]
  },
  {
   "cell_type": "code",
   "execution_count": 4,
   "id": "babc7d72-9649-4584-858c-167b8612e687",
   "metadata": {},
   "outputs": [],
   "source": [
    "client = OpenAI(\n",
    "    api_key=os.environ[\"DEEPSEEK_API_KEY\"], \n",
    "    base_url=\"https://api.deepseek.com\"\n",
    "    )\n",
    "\n",
    "messages = [{\"role\": \"system\", \"content\": \"Eres un profesor\"},\n",
    "            {\"role\": \"user\", \"content\": \"9.11 o 9.8, cual es mayor?\"}\n",
    "           ]\n",
    "response = client.chat.completions.create(\n",
    "    model=\"deepseek-reasoner\",\n",
    "    messages= [\n",
    "        {\"role\": \"system\", \"content\": \"Eres un profesor\"},\n",
    "        {\"role\": \"user\", \"content\": \"9.11 o 9.8, cual es mayor?\"}\n",
    "],\n",
    ")\n",
    "\n",
    "reasoning_content = response.choices[0].message.reasoning_content\n",
    "content = response.choices[0].message.content"
   ]
  },
  {
   "cell_type": "code",
   "execution_count": 5,
   "id": "249f69e3",
   "metadata": {},
   "outputs": [
    {
     "name": "stdout",
     "output_type": "stream",
     "text": [
      "Reasoning: Tengo una pregunta del usuario: \"9.11 o 9.8, ¿cuál es mayor?\" Parece una comparación simple entre dos números decimales. El usuario podría estar confundido porque 9.11 tiene más dígitos después del punto decimal, pero eso no necesariamente lo hace mayor.\n",
      "\n",
      "Primero, recordemos cómo comparar números decimales. Comparamos la parte entera primero. Ambos números tienen 9 como parte entera, así que eso no ayuda. Luego, comparamos el primer dígito después del decimal. En 9.11, el primer dígito decimal es 1, y en 9.8, es 8. Como 8 es mayor que 1, eso significa que 9.8 es mayor que 9.11.\n",
      "\n",
      "Puedo pensarlo en términos de fracciones. 9.11 es 911/100, y 9.8 es 98/10, que es lo mismo que 980/100. Comparando 911/100 y 980/100, claramente 980/100 es mayor.\n",
      "\n",
      "Otra forma es alinear los decimales. 9.8 es lo mismo que 9.80. Entonces comparamos 9.80 y 9.11. 80 centésimas es mayor que 11 centésimas, así que 9.80 > 9.11.\n",
      "\n",
      "El usuario podría estar pensando en fechas o algo así, como el 11 de septiembre (9/11), pero la pregunta dice \"9.11\" con un punto, no una barra, así que es probablemente un número decimal. Además, la pregunta es \"cuál es mayor\", lo que sugiere una comparación numérica.\n",
      "\n",
      "Entonces, la respuesta clara es que 9.8 es mayor que 9.11. Debo explicarlo de manera sencilla para evitar confusiones. Algo como: \"9.8 es mayor que 9.11 porque 9.8 equivale a 9.80, y 80 centésimas es mayor que 11 centésimas.\"\n",
      "\n",
      "También puedo mencionar que a veces la gente confunde el número de dígitos, pero en decimales, no se trata de la cantidad de dígitos, sino de su valor posicional.\n",
      "\n",
      "Finalmente, daré la respuesta directamente: 9.8 es mayor.\n"
     ]
    }
   ],
   "source": [
    "print(\"Reasoning:\", reasoning_content)"
   ]
  },
  {
   "cell_type": "code",
   "execution_count": 6,
   "id": "48b68039",
   "metadata": {},
   "outputs": [
    {
     "name": "stdout",
     "output_type": "stream",
     "text": [
      "Respuesta: **9.8 es mayor que 9.11**.  \n",
      "\n",
      "### Explicación sencilla:  \n",
      "- **9.8** equivale a **9.80** (si añadimos un cero para comparar).  \n",
      "- **9.80** tiene **80 centésimas**, mientras que **9.11** tiene **11 centésimas**.  \n",
      "- Como **80 > 11**, entonces **9.8 > 9.11**.  \n",
      "\n",
      "### ¿Por qué a veces genera confusión?  \n",
      "Algunas personas piensan que \"más dígitos después del punto decimal significa un número mayor\", pero esto **no es cierto**. En los decimales, el valor depende de la posición:  \n",
      "- **9.8** = 9 + 8/10 = **9.80** (980 centésimas).  \n",
      "- **9.11** = 9 + 1/10 + 1/100 = **911 centésimas**.  \n",
      "Como **980 > 911**, queda claro que **9.8 es mayor**.  \n",
      "\n",
      "¡Espero que te ayude! 😊\n"
     ]
    }
   ],
   "source": [
    "print(\"Respuesta:\", content)"
   ]
  },
  {
   "cell_type": "markdown",
   "id": "3b5c608b",
   "metadata": {},
   "source": [
    "#### Streaming"
   ]
  },
  {
   "cell_type": "code",
   "execution_count": 7,
   "id": "816a5fd6",
   "metadata": {},
   "outputs": [
    {
     "name": "stdout",
     "output_type": "stream",
     "text": [
      "========== RAZONAMIENTO EN STREAMING =============\n",
      "Tengo una pregunta del usuario: \"9.11 o 9.8, ¿cuál es mayor?\" Parece que el usuario está comparando dos números decimales, 9.11 y 9.8. Necesito determinar cuál es mayor.\n",
      "\n",
      "Primero, recordemos cómo comparar decimales. Los decimales se comparan dígito a dígito de izquierda a derecha. Ambos números tienen un 9 en la parte entera, así que eso no ayuda. Ahora, mirando el primer dígito después del punto decimal.\n",
      "\n",
      "Para 9.11, el primer dígito decimal es 1. Para 9.8, el primer dígito decimal es 8. Como 8 es mayor que 1, eso sugeriría que 9.8 es mayor que 9.11. Pero quiero asegurarme.\n",
      "\n",
      "Puedo pensar en los números como fracciones o alinearlos decimalmente. Vamos a alinearlos:\n",
      "\n",
      "9.11\n",
      "\n",
      "9.80  (porque 9.8 es lo mismo que 9.80)\n",
      "\n",
      "Ahora, comparando:\n",
      "\n",
      "- Unidades: 9 y 9, iguales.\n",
      "\n",
      "- Décimas: 1 (de 9.11) y 8 (de 9.80). 8 es mayor que 1, así que 9.80 es mayor.\n",
      "\n",
      "Para confirmar, puedo convertirlos a centésimas:\n",
      "\n",
      "9.11 = 911/100\n",
      "\n",
      "9.8 = 98/10 = 980/100 (multiplicando numerador y denominador por 10)\n",
      "\n",
      "Ahora, 911/100 vs 980/100. Claramente, 980/100 es mayor que 911/100, ya que 980 > 911.\n",
      "\n",
      "Otra forma: 9.8 es 9.80, y 9.80 es mayor que 9.11 porque 80 centésimas es más que 11 centésimas.\n",
      "\n",
      "Sí, entonces 9.8 > 9.11.\n",
      "\n",
      "El usuario escribió \"9.11 o 9.8\", y en la pregunta dice \"cual es mayor\", así que debo responder claramente.\n",
      "\n",
      "También noto que el usuario usó un punto decimal, que es común en muchos países, así que no hay confusión con separadores de miles.\n",
      "\n",
      "Entonces, la respuesta es que 9.8 es mayor.\n",
      "\n",
      "Ahora, para responder, debo ser claro y directo. Podría explicar brevemente por qué, para asegurar que el usuario entienda.\n",
      "\n",
      "Respuesta: 9.8 es mayor que 9.11.\n",
      "\n",
      "Explicación: Porque 9.8 equivale a 9.80, y 80 centésimas es mayor que 11 centésimas.\n",
      "\n",
      "========== RESPUESTA ==========\n",
      "9.8 es mayor que 9.11.\n",
      "\n",
      "### Explicación breve:\n",
      "- Para comparar decimales, podemos alinear los números por el punto decimal:\n",
      "  - 9.11 → Equivale a 9.11\n",
      "  - 9.8 → Equivale a 9.80 (añadiendo un cero para igualar decimales).\n",
      "- Comparando dígito por dígito después del punto decimal:\n",
      "  - **Décimas**: 1 (en 9.11) vs. 8 (en 9.80). Como 8 > 1, 9.80 es mayor.\n",
      "- También podemos verlo en fracciones:\n",
      "  - 9.11 = 911/100\n",
      "  - 9.8 = 98/10 = 980/100\n",
      "  - Como 980/100 > 911/100, entonces 9.8 > 9.11.\n",
      "\n",
      "**Conclusión**: 9.8 > 9.11.\n"
     ]
    }
   ],
   "source": [
    "client = OpenAI(\n",
    "    api_key=os.environ[\"DEEPSEEK_API_KEY\"], \n",
    "    base_url=\"https://api.deepseek.com\"\n",
    "    )\n",
    "\n",
    "messages = [{\"role\": \"system\", \"content\": \"Eres un profesor\"},\n",
    "            {\"role\": \"user\", \"content\": \"9.11 o 9.8, cual es mayor?\"}\n",
    "           ]\n",
    "response = client.chat.completions.create(\n",
    "    model=\"deepseek-reasoner\",\n",
    "    messages=messages,\n",
    "    stream=True\n",
    ")\n",
    "\n",
    "print(\"========== RAZONAMIENTO EN STREAMING =============\")\n",
    "respuesta_actual = \"\"  # Acumulador para la respuesta\n",
    "\n",
    "for chunk in response:\n",
    "    if not chunk.choices:\n",
    "        continue\n",
    "    \n",
    "    delta = chunk.choices[0].delta\n",
    "    \n",
    "    if getattr(delta, 'reasoning_content', None):\n",
    "        print(delta.reasoning_content, end='', flush=True)\n",
    "    \n",
    "    if getattr(delta, 'content', None):\n",
    "        respuesta_actual += delta.content  # Acumula sin imprimir\n",
    "\n",
    "# Imprime la respuesta completa al final\n",
    "if respuesta_actual:\n",
    "    print(f\"\\n\\n========== RESPUESTA ==========\\n{respuesta_actual}\")"
   ]
  },
  {
   "cell_type": "code",
   "execution_count": null,
   "id": "646cb3c0",
   "metadata": {},
   "outputs": [],
   "source": []
  }
 ],
 "metadata": {
  "kernelspec": {
   "display_name": "Python 3",
   "language": "python",
   "name": "python3"
  },
  "language_info": {
   "codemirror_mode": {
    "name": "ipython",
    "version": 3
   },
   "file_extension": ".py",
   "mimetype": "text/x-python",
   "name": "python",
   "nbconvert_exporter": "python",
   "pygments_lexer": "ipython3",
   "version": "3.12.1"
  }
 },
 "nbformat": 4,
 "nbformat_minor": 5
}
