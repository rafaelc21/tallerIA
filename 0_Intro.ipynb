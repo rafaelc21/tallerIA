{
 "cells": [
  {
   "cell_type": "markdown",
   "id": "19154408",
   "metadata": {},
   "source": [
    "# Introducción al Curso de Inteligencia Artificial Generativa\n",
    "\n",
    "La Inteligencia Artificial Generativa (IA Gen) es una de las áreas más disruptivas de la tecnología actual.  \n",
    "Permite que los sistemas generen contenido original como texto, imágenes, audio o código, con aplicaciones en múltiples sectores.  \n",
    "Este curso está diseñado para introducirte de forma clara y práctica en los fundamentos, herramientas y técnicas modernas de IA generativa,  \n",
    "sin necesidad de experiencia previa en inteligencia artificial.\n",
    "\n",
    "Durante el curso, abordaremos en profundidad los Modelos de Lenguaje de Gran Tamaño (LLM), como GPT, que son capaces de comprender, resumir y generar lenguaje natural con un alto grado de coherencia y fluidez. Aprenderás cómo funcionan internamente, cómo usarlos a través de APIs, y cómo afinarlos para tareas específicas.\n",
    "\n",
    "Además, exploraremos la técnica de RAG (Retrieval-Augmented Generation), que permite combinar la potencia de los LLM con bases de datos externas o documentos propios, mejorando significativamente la precisión y relevancia de las respuestas generadas. Verás cómo construir asistentes inteligentes o chatbots que puedan consultar información actualizada o especializada, incluso cuando no está incluida en el modelo original.\n",
    "\n",
    "Al finalizar este curso, tendrás los conocimientos necesarios para aplicar IA generativa en tus propios proyectos, construir soluciones con modelos avanzados y entender el papel clave que estas tecnologías tendrán en el futuro profesional."
   ]
  },
  {
   "cell_type": "markdown",
   "id": "60db526a",
   "metadata": {},
   "source": []
  },
  {
   "cell_type": "markdown",
   "id": "d3616b0f",
   "metadata": {},
   "source": [
    "### Pre-requisitos (Librerias)"
   ]
  },
  {
   "cell_type": "code",
   "execution_count": 1,
   "id": "8a7700ef",
   "metadata": {},
   "outputs": [],
   "source": [
    "# pip install -r requirements.txt"
   ]
  },
  {
   "cell_type": "code",
   "execution_count": null,
   "id": "a34ed2e0",
   "metadata": {},
   "outputs": [],
   "source": []
  }
 ],
 "metadata": {
  "kernelspec": {
   "display_name": "Python 3",
   "language": "python",
   "name": "python3"
  },
  "language_info": {
   "codemirror_mode": {
    "name": "ipython",
    "version": 3
   },
   "file_extension": ".py",
   "mimetype": "text/x-python",
   "name": "python",
   "nbconvert_exporter": "python",
   "pygments_lexer": "ipython3",
   "version": "3.12.1"
  }
 },
 "nbformat": 4,
 "nbformat_minor": 5
}
